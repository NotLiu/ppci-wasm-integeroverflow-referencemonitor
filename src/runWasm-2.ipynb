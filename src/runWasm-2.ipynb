{
 "cells": [
  {
   "cell_type": "code",
   "execution_count": 19,
   "id": "68a6824f",
   "metadata": {},
   "outputs": [],
   "source": [
    "def readFile(f):\n",
    "    file = f.readlines()\n",
    "    for line in file:\n",
    "        try:\n",
    "            if '=' in line:\n",
    "                curLine = line.strip().replace(' ','').split('=')\n",
    "                if int(curLine[1]) > 2**64-1:\n",
    "                    raise Exception(\"Integer Overflow\")\n",
    "        except:\n",
    "            raise Exception(\"Integer Overflow\")\n",
    "        \n"
   ]
  },
  {
   "cell_type": "code",
   "execution_count": 20,
   "id": "11b1b586",
   "metadata": {},
   "outputs": [
    {
     "data": {
      "text/html": [
       "<div style='border: 2px solid blue;' id='wasm_output_6'></div>"
      ],
      "text/plain": [
       "<IPython.core.display.HTML object>"
      ]
     },
     "metadata": {},
     "output_type": "display_data"
    },
    {
     "data": {
      "application/javascript": [
       "(function() {\n",
       "/* This code is used to run WASM modules in either Nodejs or the browser.\n",
       "   In both cases, a couple of standard functions are provided, e.g. to\n",
       "   print text.\n",
       "*/\n",
       "\n",
       "\n",
       "var wasm_data = new Uint8Array([0, 97, 115, 109, 1, 0, 0, 0, 1, 8, 2, 96, 1, 124, 0, 96, 0, 0, 2, 17, 1, 3, 101, 110, 118, 9, 102, 54, 52, 95, 112, 114, 105, 110, 116, 0, 0, 3, 2, 1, 1, 7, 8, 1, 4, 109, 97, 105, 110, 0, 1, 8, 1, 1, 10, 35, 1, 33, 1, 2, 124, 68, 0, 0, 0, 224, 127, 253, 165, 65, 33, 0, 68, 0, 0, 0, 0, 0, 0, 240, 63, 33, 1, 32, 0, 32, 1, 160, 16, 0, 11]);\n",
       "\n",
       "var is_node = typeof window === 'undefined';\n",
       "\n",
       "/* Define functions to provide to the WASM module. */\n",
       "\n",
       "function print_ln(x) {\n",
       "    if (is_node) {\n",
       "        process.stdout.write(x + '\\n');\n",
       "    } else {\n",
       "        var el = document.getElementById('wasm_output_6');\n",
       "        el.innerHTML += String(x).replace('\\n', '<br>') + '<br>';\n",
       "        console.log(x);\n",
       "    }\n",
       "}\n",
       "\n",
       "function print_charcode(i) {\n",
       "    var c = String.fromCharCode(i);\n",
       "    if (is_node) {\n",
       "        process.stdout.write(c);\n",
       "    } else {\n",
       "        if (c == '\\n') { c = '<br>'; }\n",
       "        var el = document.getElementById('wasm_output_6');\n",
       "        el.innerHTML += c;\n",
       "    }\n",
       "}\n",
       "\n",
       "function alert(x) {\n",
       "    if (is_node) {\n",
       "        process.stdout.write('ALERT: ' + x);\n",
       "    } else {\n",
       "        window.alert(x);\n",
       "    }\n",
       "}\n",
       "\n",
       "function perf_counter() {\n",
       "    if (is_node) {\n",
       "        var t = process.hrtime();\n",
       "        return t[0] + t[1] * 1e-9;\n",
       "    } else {\n",
       "        return performance.now() * 1e-3;\n",
       "    }\n",
       "}\n",
       "\n",
       "function test_1_1() {\n",
       "    print_ln('test_1_1 called');\n",
       "}\n",
       "function test_1_0() {\n",
       "    print_ln('test_1_0 called');\n",
       "}\n",
       "function test_0_1() {\n",
       "    print_ln('test_0_1 called');\n",
       "    return 0;\n",
       "}\n",
       "function test_0_0() {\n",
       "    print_ln('test_0_0 called');\n",
       "}\n",
       "\n",
       "/* Pack importable funcs into a dict */\n",
       "\n",
       "/* old mechanics */\n",
       "var providedfuncs = {\n",
       "    print_ln: print_ln,\n",
       "    print_charcode: print_charcode,\n",
       "    bsp_putc: print_charcode,\n",
       "    alert: alert,\n",
       "    perf_counter: perf_counter,\n",
       "    test_1_1: test_1_1,\n",
       "    test_1_0: test_1_0,\n",
       "    test_0_1: test_0_1,\n",
       "    test_0_0: test_0_0\n",
       "};\n",
       "\n",
       "/* Newer style */\n",
       "var envfuncs = {\n",
       "    f64_print: print_ln\n",
       "};\n",
       "\n",
       "\n",
       "function compile_my_wasm() {\n",
       "    print_ln('Compiling wasm module');\n",
       "    var module_ = new WebAssembly.Module(wasm_data);\n",
       "    print_ln('Initializing wasm module');\n",
       "    print_ln('Result:');\n",
       "    var t0 = perf_counter();\n",
       "    var module = new WebAssembly.Instance(module_, {js: providedfuncs, env: envfuncs});\n",
       "    print_ln('(in ' + (perf_counter() - t0) + ' s)');  // flush\n",
       "    \n",
       "\n",
       "    print_ln('\\n');  // flush\n",
       "    \n",
       "}\n",
       ";\n",
       "compile_my_wasm();\n",
       "})();"
      ],
      "text/plain": [
       "<IPython.core.display.Javascript object>"
      ]
     },
     "metadata": {},
     "output_type": "display_data"
    }
   ],
   "source": [
    "from ppci import wasm\n",
    "from ppci.lang.python import python_to_wasm\n",
    "import threading\n",
    "\n",
    "lock = threading.Lock()\n",
    "\n",
    "with open('test.py') as f:\n",
    "    lock.acquire()\n",
    "    try:\n",
    "        readFile(f)\n",
    "        f.close()\n",
    "        contents = open('test.py').read()\n",
    "        was = python_to_wasm(contents)\n",
    "        wasm.run_wasm_in_notebook(was)\n",
    "    except:\n",
    "        print('Error occurs')\n",
    "    finally:\n",
    "        lock.release()\n",
    "    \n"
   ]
  },
  {
   "cell_type": "code",
   "execution_count": null,
   "id": "b5782281",
   "metadata": {},
   "outputs": [],
   "source": []
  },
  {
   "cell_type": "code",
   "execution_count": null,
   "id": "c4f971a6",
   "metadata": {},
   "outputs": [],
   "source": []
  }
 ],
 "metadata": {
  "kernelspec": {
   "display_name": "Python 3 (ipykernel)",
   "language": "python",
   "name": "python3"
  },
  "language_info": {
   "codemirror_mode": {
    "name": "ipython",
    "version": 3
   },
   "file_extension": ".py",
   "mimetype": "text/x-python",
   "name": "python",
   "nbconvert_exporter": "python",
   "pygments_lexer": "ipython3",
   "version": "3.9.12"
  }
 },
 "nbformat": 4,
 "nbformat_minor": 5
}
